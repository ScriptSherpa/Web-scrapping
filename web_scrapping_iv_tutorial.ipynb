{
  "nbformat": 4,
  "nbformat_minor": 0,
  "metadata": {
    "colab": {
      "provenance": [],
      "authorship_tag": "ABX9TyMmGoSD7S7HqDaS9lHkxGrZ",
      "include_colab_link": true
    },
    "kernelspec": {
      "name": "python3",
      "display_name": "Python 3"
    },
    "language_info": {
      "name": "python"
    }
  },
  "cells": [
    {
      "cell_type": "markdown",
      "metadata": {
        "id": "view-in-github",
        "colab_type": "text"
      },
      "source": [
        "<a href=\"https://colab.research.google.com/github/ScriptSherpa/Web-scrapping/blob/main/web_scrapping_iv_tutorial.ipynb\" target=\"_parent\"><img src=\"https://colab.research.google.com/assets/colab-badge.svg\" alt=\"Open In Colab\"/></a>"
      ]
    },
    {
      "cell_type": "code",
      "execution_count": null,
      "metadata": {
        "id": "aVXst3IlV0ex"
      },
      "outputs": [],
      "source": []
    },
    {
      "cell_type": "markdown",
      "source": [
        "indeed job scrapper"
      ],
      "metadata": {
        "id": "mN9vtg1dWVay"
      }
    },
    {
      "cell_type": "code",
      "source": [
        "import csv\n",
        "from datetime import datetime\n",
        "import requests\n",
        "from bs4 import BeautifulSoup"
      ],
      "metadata": {
        "id": "-o1B5t0dWfZ4"
      },
      "execution_count": 6,
      "outputs": []
    },
    {
      "cell_type": "markdown",
      "source": [
        " setup the query and url"
      ],
      "metadata": {
        "id": "cX66SWL4WjNZ"
      }
    },
    {
      "cell_type": "code",
      "source": [
        "\n",
        "def get_url(position, location):\n",
        "    \"\"\"Generate url from position and location\"\"\"\n",
        "    template = 'https://www.indeed.com/jobs?q={}&l={}'\n",
        "    position = position.replace(' ', '+')\n",
        "    location = location.replace(' ', '+')\n",
        "    url = template.format(position, location)\n",
        "    return url"
      ],
      "metadata": {
        "id": "GUL1JctpW3rp"
      },
      "execution_count": 3,
      "outputs": []
    },
    {
      "cell_type": "code",
      "source": [
        "url = get_url('senior accountant', 'charlotte nc')\n",
        "print(url)"
      ],
      "metadata": {
        "id": "KnmcmZ5iWlxL",
        "colab": {
          "base_uri": "https://localhost:8080/"
        },
        "outputId": "e7bc5c00-210c-4d48-ef40-609dfebecacb"
      },
      "execution_count": 4,
      "outputs": [
        {
          "output_type": "stream",
          "name": "stdout",
          "text": [
            "https://www.indeed.com/jobs?q=senior+accountant&l=charlotte+nc\n"
          ]
        }
      ]
    },
    {
      "cell_type": "markdown",
      "source": [
        "Extract the html data"
      ],
      "metadata": {
        "id": "iUWhn1VDWjDn"
      }
    },
    {
      "cell_type": "code",
      "source": [
        "response =requests.get(url)"
      ],
      "metadata": {
        "id": "L2PBCohLX1P3"
      },
      "execution_count": 9,
      "outputs": []
    },
    {
      "cell_type": "code",
      "source": [
        "from bs4 import BeautifulSoup\n",
        "soup = BeautifulSoup(response.text, 'html.parser')"
      ],
      "metadata": {
        "id": "yLwNuvPmX5dr"
      },
      "execution_count": 10,
      "outputs": []
    },
    {
      "cell_type": "code",
      "source": [
        "cards = soup.find_all('div', 'jobsearch-SerpJobCard')"
      ],
      "metadata": {
        "id": "82qfBGg7YTLZ"
      },
      "execution_count": 11,
      "outputs": []
    },
    {
      "cell_type": "markdown",
      "source": [
        "Prototype the model with a single record"
      ],
      "metadata": {
        "id": "9usH_b6mYU0K"
      }
    },
    {
      "cell_type": "code",
      "source": [
        "card = cards[0]"
      ],
      "metadata": {
        "colab": {
          "base_uri": "https://localhost:8080/",
          "height": 141
        },
        "id": "iWVfzg9iYVgr",
        "outputId": "98f2588b-064c-4037-fcd7-10072b3f1710"
      },
      "execution_count": 15,
      "outputs": [
        {
          "output_type": "error",
          "ename": "IndexError",
          "evalue": "list index out of range",
          "traceback": [
            "\u001b[0;31m---------------------------------------------------------------------------\u001b[0m",
            "\u001b[0;31mIndexError\u001b[0m                                Traceback (most recent call last)",
            "\u001b[0;32m<ipython-input-15-64afd82e9834>\u001b[0m in \u001b[0;36m<cell line: 0>\u001b[0;34m()\u001b[0m\n\u001b[0;32m----> 1\u001b[0;31m \u001b[0mcard\u001b[0m \u001b[0;34m=\u001b[0m \u001b[0mcards\u001b[0m\u001b[0;34m[\u001b[0m\u001b[0;36m0\u001b[0m\u001b[0;34m]\u001b[0m\u001b[0;34m\u001b[0m\u001b[0;34m\u001b[0m\u001b[0m\n\u001b[0m",
            "\u001b[0;31mIndexError\u001b[0m: list index out of range"
          ]
        }
      ]
    },
    {
      "cell_type": "code",
      "source": [
        "import requests\n",
        "from bs4 import BeautifulSoup\n",
        "\n",
        "# Get the URL\n",
        "url = get_url('senior accountant', 'charlotte nc')\n",
        "print(url)\n",
        "\n",
        "# Fetch the HTML\n",
        "response = requests.get(url)\n",
        "\n",
        "# Check response status code\n",
        "if response.status_code != 200:\n",
        "    print(f\"Request failed with status code: {response.status_code}\")\n",
        "else:\n",
        "    # Parse the HTML\n",
        "    soup = BeautifulSoup(response.text, 'html.parser')\n",
        "\n",
        "    # Find all job cards\n",
        "    cards = soup.find_all('div', 'jobsearch-SerpJobCard')\n",
        "\n",
        "    # Print the number of cards found\n",
        "    print(f\"Found {len(cards)} job cards.\")\n",
        "\n",
        "    # If cards are found, then access the first card\n",
        "    if cards:\n",
        "        card = cards[0]\n",
        "    else:\n",
        "        print(\"No job cards found. Please check the CSS selector or the Indeed website structure.\")"
      ],
      "metadata": {
        "colab": {
          "base_uri": "https://localhost:8080/"
        },
        "id": "kKjw7Np4Yh_-",
        "outputId": "f5d09568-9320-4e40-c2b8-48c5e5fffa17"
      },
      "execution_count": 17,
      "outputs": [
        {
          "output_type": "stream",
          "name": "stdout",
          "text": [
            "https://www.indeed.com/jobs?q=senior+accountant&l=charlotte+nc\n",
            "Request failed with status code: 403\n"
          ]
        }
      ]
    },
    {
      "cell_type": "code",
      "source": [
        "job_title = card.h2.a.get('title')"
      ],
      "metadata": {
        "colab": {
          "base_uri": "https://localhost:8080/",
          "height": 141
        },
        "id": "3csTZBd8YkDN",
        "outputId": "5caea65c-26e1-450b-928a-c2502421d48c"
      },
      "execution_count": 16,
      "outputs": [
        {
          "output_type": "error",
          "ename": "NameError",
          "evalue": "name 'card' is not defined",
          "traceback": [
            "\u001b[0;31m---------------------------------------------------------------------------\u001b[0m",
            "\u001b[0;31mNameError\u001b[0m                                 Traceback (most recent call last)",
            "\u001b[0;32m<ipython-input-16-4ae2b224ecbf>\u001b[0m in \u001b[0;36m<cell line: 0>\u001b[0;34m()\u001b[0m\n\u001b[0;32m----> 1\u001b[0;31m \u001b[0mjob_title\u001b[0m \u001b[0;34m=\u001b[0m \u001b[0mcard\u001b[0m\u001b[0;34m.\u001b[0m\u001b[0mh2\u001b[0m\u001b[0;34m.\u001b[0m\u001b[0ma\u001b[0m\u001b[0;34m.\u001b[0m\u001b[0mget\u001b[0m\u001b[0;34m(\u001b[0m\u001b[0;34m'title'\u001b[0m\u001b[0;34m)\u001b[0m\u001b[0;34m\u001b[0m\u001b[0;34m\u001b[0m\u001b[0m\n\u001b[0m",
            "\u001b[0;31mNameError\u001b[0m: name 'card' is not defined"
          ]
        }
      ]
    },
    {
      "cell_type": "code",
      "source": [
        "company = card.find('span', 'company').text.strip()\n",
        "job_location = card.find('div', 'recJobLoc').get('data-rc-loc')"
      ],
      "metadata": {
        "id": "rTyGdaubYy4g"
      },
      "execution_count": null,
      "outputs": []
    },
    {
      "cell_type": "code",
      "source": [
        "post_date = card.find('span', 'date').text\n",
        "today = datetime.today().strftime('%Y-%m-%d')"
      ],
      "metadata": {
        "id": "_o3u2iBQYzbI"
      },
      "execution_count": null,
      "outputs": []
    },
    {
      "cell_type": "code",
      "source": [
        "summary = card.find('div', 'summary').text.strip().replace('\\n', ' ')\n"
      ],
      "metadata": {
        "id": "3ldDjivRY1Ql"
      },
      "execution_count": null,
      "outputs": []
    },
    {
      "cell_type": "code",
      "source": [
        "# this does not exists for all jobs, so handle the exceptions\n",
        "salary_tag = card.find('span', 'salaryText')\n",
        "if salary_tag:\n",
        "    salary = salary_tag.text.strip()\n",
        "else:\n",
        "    salary = ''"
      ],
      "metadata": {
        "id": "GPRvgc_cY33O"
      },
      "execution_count": null,
      "outputs": []
    },
    {
      "cell_type": "code",
      "source": [
        "job_url = 'https://www.indeed.com' + card.h2.a.get('href')\n"
      ],
      "metadata": {
        "id": "0EqEMvX6Y5vZ"
      },
      "execution_count": null,
      "outputs": []
    },
    {
      "cell_type": "code",
      "source": [
        "record = (job_title, company, job_location, post_date, today, summary, salary, job_url)\n"
      ],
      "metadata": {
        "id": "8NKSd2WjY6sl"
      },
      "execution_count": null,
      "outputs": []
    },
    {
      "cell_type": "code",
      "source": [
        "record\n"
      ],
      "metadata": {
        "id": "6WoTLzCEY8Dh"
      },
      "execution_count": null,
      "outputs": []
    },
    {
      "cell_type": "markdown",
      "source": [
        "Generalize the model with a function"
      ],
      "metadata": {
        "id": "bZkB1-6kY-FB"
      }
    },
    {
      "cell_type": "code",
      "source": [
        "\n",
        "def get_record(card):\n",
        "    \"\"\"Extract job data from a single record\"\"\"\n",
        "\n",
        "    job_title = card.h2.a.get('title')\n",
        "    company = card.find('span', 'company').text.strip()\n",
        "    job_location = card.find('div', 'recJobLoc').get('data-rc-loc')\n",
        "    post_date = card.find('span', 'date').text\n",
        "    today = datetime.today().strftime('%Y-%m-%d')\n",
        "    summary = card.find('div', 'summary').text.strip().replace('\\n', ' ')\n",
        "    job_url = 'https://www.indeed.com' + card.h2.a.get('href')\n",
        "\n",
        "    # this does not exists for all jobs, so handle the exceptions\n",
        "    salary_tag = card.find('span', 'salaryText')\n",
        "    if salary_tag:\n",
        "        salary = salary_tag.text.strip()\n",
        "    else:\n",
        "        salary = ''\n",
        "\n",
        "    record = (job_title, company, job_location, post_date, today, summary, salary, job_url)\n",
        "    return record"
      ],
      "metadata": {
        "id": "qvRkH57lY-n4"
      },
      "execution_count": null,
      "outputs": []
    },
    {
      "cell_type": "code",
      "source": [
        "records = []\n",
        "\n",
        "for card in cards:\n",
        "    record = get_record(card)\n",
        "    records.append(record)"
      ],
      "metadata": {
        "id": "63J_34ypZBCK"
      },
      "execution_count": null,
      "outputs": []
    },
    {
      "cell_type": "markdown",
      "source": [
        "\n",
        "Get the next page"
      ],
      "metadata": {
        "id": "bY12HvJIYh1_"
      }
    },
    {
      "cell_type": "code",
      "source": [
        "while True:\n",
        "    try:\n",
        "        url = 'https://www.indeed.com' + soup.find('a', {'aria-label': 'Next'}).get('href')\n",
        "    except AttributeError:\n",
        "        break\n",
        "\n",
        "    response = requests.get(url)\n",
        "    soup = BeautifulSoup(response.text, 'html.parser')\n",
        "    cards = soup.find_all('div', 'jobsearch-SerpJobCard')\n",
        "\n",
        "    for card in cards:\n",
        "        record = get_record(card)\n",
        "        records.append(record)"
      ],
      "metadata": {
        "id": "f-nOrxNSZEpM"
      },
      "execution_count": null,
      "outputs": []
    },
    {
      "cell_type": "markdown",
      "source": [
        "Putting it all together"
      ],
      "metadata": {
        "id": "upJHWhCMZIHg"
      }
    },
    {
      "cell_type": "code",
      "source": [
        "import csv\n",
        "from datetime import datetime\n",
        "import requests\n",
        "from bs4 import BeautifulSoup\n",
        "\n",
        "\n",
        "def get_url(position, location):\n",
        "    \"\"\"Generate url from position and location\"\"\"\n",
        "    template = 'https://www.indeed.com/jobs?q={}&l={}'\n",
        "    position = position.replace(' ', '+')\n",
        "    location = location.replace(' ', '+')\n",
        "    url = template.format(position, location)\n",
        "    return url\n",
        "\n",
        "\n",
        "def get_record(card):\n",
        "    \"\"\"Extract job data from a single record\"\"\"\n",
        "\n",
        "    job_title = card.h2.a.get('title')\n",
        "    company = card.find('span', 'company').text.strip()\n",
        "    job_location = card.find('div', 'recJobLoc').get('data-rc-loc')\n",
        "    post_date = card.find('span', 'date').text\n",
        "    today = datetime.today().strftime('%Y-%m-%d')\n",
        "    summary = card.find('div', 'summary').text.strip().replace('\\n', ' ')\n",
        "    job_url = 'https://www.indeed.com' + card.h2.a.get('href')\n",
        "\n",
        "    # this does not exists for all jobs, so handle the exceptions\n",
        "    salary_tag = card.find('span', 'salaryText')\n",
        "    if salary_tag:\n",
        "        salary = salary_tag.text.strip()\n",
        "    else:\n",
        "        salary = ''\n",
        "\n",
        "    record = (job_title, company, job_location, post_date, today, summary, salary, job_url)\n",
        "    return record\n",
        "\n",
        "\n",
        "def main(position, location):\n",
        "    \"\"\"Run the main program routine\"\"\"\n",
        "    records = []\n",
        "    url = get_url(position, location)\n",
        "\n",
        "    # extract the job data\n",
        "    while True:\n",
        "        response = requests.get(url)\n",
        "        soup = BeautifulSoup(response.text, 'html.parser')\n",
        "        cards = soup.find_all('div', 'jobsearch-SerpJobCard')\n",
        "        for card in cards:\n",
        "            record = get_record(card)\n",
        "            records.append(record)\n",
        "        try:\n",
        "            url = 'https://www.indeed.com' + soup.find('a', {'aria-label': 'Next'}).get('href')\n",
        "        except AttributeError:\n",
        "            break\n",
        "\n",
        "    # save the job data\n",
        "    with open('results.csv', 'w', newline='', encoding='utf-8') as f:\n",
        "        writer = csv.writer(f)\n",
        "        writer.writerow(['JobTitle', 'Company', 'Location', 'PostDate', 'ExtractDate', 'Summary', 'Salary', 'JobUrl'])\n",
        "        writer.writerows(records)\n"
      ],
      "metadata": {
        "id": "jKk_DKtkZJGt"
      },
      "execution_count": null,
      "outputs": []
    },
    {
      "cell_type": "code",
      "source": [
        "# run the main program\n",
        "main('senior accountant', 'charlotte nc')"
      ],
      "metadata": {
        "id": "IZ3Td0j_ZNv6"
      },
      "execution_count": null,
      "outputs": []
    }
  ]
}