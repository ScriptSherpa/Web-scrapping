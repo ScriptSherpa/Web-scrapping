{
  "nbformat": 4,
  "nbformat_minor": 0,
  "metadata": {
    "colab": {
      "provenance": [],
      "authorship_tag": "ABX9TyMZQLGnJSVDgNmZUdztGQWW",
      "include_colab_link": true
    },
    "kernelspec": {
      "name": "python3",
      "display_name": "Python 3"
    },
    "language_info": {
      "name": "python"
    }
  },
  "cells": [
    {
      "cell_type": "markdown",
      "metadata": {
        "id": "view-in-github",
        "colab_type": "text"
      },
      "source": [
        "<a href=\"https://colab.research.google.com/github/ScriptSherpa/Web-scrapping/blob/main/webscraping_Indeed_ipynb_ii.ipynb\" target=\"_parent\"><img src=\"https://colab.research.google.com/assets/colab-badge.svg\" alt=\"Open In Colab\"/></a>"
      ]
    },
    {
      "cell_type": "code",
      "execution_count": null,
      "metadata": {
        "id": "Pf8_WTlVSDwu"
      },
      "outputs": [],
      "source": [
        "# pip3 install wordcloud # (if you don't have already)\n",
        "import pandas as pd\n",
        "import numpy as np\n",
        "import PIL              # for images\n",
        "import wordcloud        # ploting word cloud\n",
        "import requests         # grab web-page\n",
        "import pickle           # save file\n",
        "from bs4 import BeautifulSoup as bsopa  # parse web-page\n",
        "import datetime         # format date/time\n",
        "from collections import defaultdict\n",
        "import re               # regular expressions"
      ]
    },
    {
      "cell_type": "code",
      "source": [
        "# if you don't have wordcloud, get that now:\n",
        "\n",
        "!pip3 install wordcloud\n",
        "# conda install -c conda-forge wordcloud"
      ],
      "metadata": {
        "colab": {
          "base_uri": "https://localhost:8080/"
        },
        "id": "OFaHnabrTL2V",
        "outputId": "9cd0dd1e-b8f8-4292-e324-0da0b9c29fdb"
      },
      "execution_count": null,
      "outputs": [
        {
          "output_type": "stream",
          "name": "stdout",
          "text": [
            "Requirement already satisfied: wordcloud in /usr/local/lib/python3.11/dist-packages (1.9.4)\n",
            "Requirement already satisfied: numpy>=1.6.1 in /usr/local/lib/python3.11/dist-packages (from wordcloud) (1.26.4)\n",
            "Requirement already satisfied: pillow in /usr/local/lib/python3.11/dist-packages (from wordcloud) (11.1.0)\n",
            "Requirement already satisfied: matplotlib in /usr/local/lib/python3.11/dist-packages (from wordcloud) (3.10.0)\n",
            "Requirement already satisfied: contourpy>=1.0.1 in /usr/local/lib/python3.11/dist-packages (from matplotlib->wordcloud) (1.3.1)\n",
            "Requirement already satisfied: cycler>=0.10 in /usr/local/lib/python3.11/dist-packages (from matplotlib->wordcloud) (0.12.1)\n",
            "Requirement already satisfied: fonttools>=4.22.0 in /usr/local/lib/python3.11/dist-packages (from matplotlib->wordcloud) (4.56.0)\n",
            "Requirement already satisfied: kiwisolver>=1.3.1 in /usr/local/lib/python3.11/dist-packages (from matplotlib->wordcloud) (1.4.8)\n",
            "Requirement already satisfied: packaging>=20.0 in /usr/local/lib/python3.11/dist-packages (from matplotlib->wordcloud) (24.2)\n",
            "Requirement already satisfied: pyparsing>=2.3.1 in /usr/local/lib/python3.11/dist-packages (from matplotlib->wordcloud) (3.2.1)\n",
            "Requirement already satisfied: python-dateutil>=2.7 in /usr/local/lib/python3.11/dist-packages (from matplotlib->wordcloud) (2.8.2)\n",
            "Requirement already satisfied: six>=1.5 in /usr/local/lib/python3.11/dist-packages (from python-dateutil>=2.7->matplotlib->wordcloud) (1.17.0)\n"
          ]
        }
      ]
    },
    {
      "cell_type": "code",
      "source": [
        "'''\n",
        "ex.) https://www.indeed.com/jobs?q=data+scientist&l=california&start=10\n",
        "\n",
        "range(0,150,10): each page will have \"start=0,start=10,start=20 etc\" which deals with\n",
        "going through each page, but not exactly 10 entries/pg.\n",
        "\n",
        "string formatting is used to denote what job and location we want: you can use a string\n",
        "separated by space and it will be interpreted by the website.\n",
        "\n",
        "sou=bsopa(y.text,'lxml') is taking our get request and converting to text in the format\n",
        "of 'lxml' but we can replace with 'html.parser' as well.\n",
        "\n",
        "Each job post can be parsed by the 'div',{\"class\":\"jobsearch-SerpJobCard\"} or\n",
        "'div', {'class': 'row'} depending on how you want to search\n",
        "\n",
        "After that we get each piece of information we want to obtain: job title, location etc.\n",
        "\n",
        "the only difficult and frustrating part is getting all the raw text for each posting\n",
        "relating to the qulifications. We have to open a link, iterate through it and then extract\n",
        "all the information with a try/except block and then further process.\n",
        "'''\n",
        "\n",
        "gg=[]\n",
        "for j in range(0,150,10):\n",
        "    position,location='data scientist','california'\n",
        "    y=requests.get('https://www.indeed.com/jobs?q={}&l={}&sort=date='.format(position,location)+str(j))\n",
        "\n",
        "    # y=requests.get('https://www.indeed.com/jobs?q=data+scientist&l=california&sort=date='+str(i))\n",
        "    sou=bsopa(y.text,'lxml')\n",
        "\n",
        "#     for ii in sou.find_all('div', {'class': 'row'}):\n",
        "    for ii in sou.find_all('div',{\"class\":\"jobsearch-SerpJobCard\"}):\n",
        "\n",
        "        job_title = ii.find('a', {'data-tn-element': 'jobTitle'})['title']\n",
        "        company_name = ii.find('span', {'class': 'company'}).text.strip()\n",
        "        location=ii.find('span',{\"class\":\"location\"})\n",
        "        post_date = ii.find('span', attrs={'class': 'date'})\n",
        "        summary=ii.find('div',attrs={'class':'summary'})\n",
        "\n",
        "        if location:\n",
        "            location=location.text.strip()\n",
        "        else:\n",
        "            location=ii.find('div',{\"class\":\"location\"})\n",
        "            location=location.text.strip()\n",
        "\n",
        "        k=ii.find('h2', {'class':\"title\"})\n",
        "        p=k.find(href=True)\n",
        "        v=p['href']\n",
        "        f_=str(v).replace('&amp;','&') # links to iterate for qualification text\n",
        "\n",
        "\n",
        "        datum = {'job_title': job_title,\n",
        "                    'company_name': company_name,\n",
        "                    'location': location,\n",
        "                    'summary':summary.text.strip(),\n",
        "                    'post_Date':post_date.text,\n",
        "                    'Qualification_link': f_}\n",
        "\n",
        "#         gg.append([location,job_title,company_name,post_date.text,summary.text.strip()\n",
        "#                   ,f_])\n",
        "        gg.append(datum)"
      ],
      "metadata": {
        "id": "CbWgnMNYTLy0"
      },
      "execution_count": null,
      "outputs": []
    },
    {
      "cell_type": "code",
      "source": [
        "len(gg)\n",
        "gg[0]"
      ],
      "metadata": {
        "colab": {
          "base_uri": "https://localhost:8080/",
          "height": 158
        },
        "id": "ML6bkLtYTLww",
        "outputId": "610011cc-dfe4-436a-f4f3-814b445b74c4"
      },
      "execution_count": null,
      "outputs": [
        {
          "output_type": "error",
          "ename": "IndexError",
          "evalue": "list index out of range",
          "traceback": [
            "\u001b[0;31m---------------------------------------------------------------------------\u001b[0m",
            "\u001b[0;31mIndexError\u001b[0m                                Traceback (most recent call last)",
            "\u001b[0;32m<ipython-input-4-91656d89d1d1>\u001b[0m in \u001b[0;36m<cell line: 0>\u001b[0;34m()\u001b[0m\n\u001b[1;32m      1\u001b[0m \u001b[0mlen\u001b[0m\u001b[0;34m(\u001b[0m\u001b[0mgg\u001b[0m\u001b[0;34m)\u001b[0m\u001b[0;34m\u001b[0m\u001b[0;34m\u001b[0m\u001b[0m\n\u001b[0;32m----> 2\u001b[0;31m \u001b[0mgg\u001b[0m\u001b[0;34m[\u001b[0m\u001b[0;36m0\u001b[0m\u001b[0;34m]\u001b[0m\u001b[0;34m\u001b[0m\u001b[0;34m\u001b[0m\u001b[0m\n\u001b[0m",
            "\u001b[0;31mIndexError\u001b[0m: list index out of range"
          ]
        }
      ]
    },
    {
      "cell_type": "code",
      "source": [
        "# get all qualification page text: key=index, value=string of text for qualification\n",
        "hoop=[]\n",
        "for i in range(len(gg)):\n",
        "    op=requests.get('https://www.indeed.com'+gg[i]['Qualification_link'])\n",
        "    sou_=bsopa(op.text,'html.parser')\n",
        "    for ii in sou_.find('div',{'class':'jobsearch-jobDescriptionText'}):\n",
        "        try:\n",
        "            hoop.append([i,''.join(ii.text.strip())])\n",
        "        except AttributeError:\n",
        "            hoop.append([i,''])\n",
        "hoop[0]"
      ],
      "metadata": {
        "colab": {
          "base_uri": "https://localhost:8080/",
          "height": 176
        },
        "id": "qtnAOJCkTLuh",
        "outputId": "c845d6b6-392a-45b5-d3f6-0a3d9fdb9b8a"
      },
      "execution_count": null,
      "outputs": [
        {
          "output_type": "error",
          "ename": "IndexError",
          "evalue": "list index out of range",
          "traceback": [
            "\u001b[0;31m---------------------------------------------------------------------------\u001b[0m",
            "\u001b[0;31mIndexError\u001b[0m                                Traceback (most recent call last)",
            "\u001b[0;32m<ipython-input-5-bac10ece23ba>\u001b[0m in \u001b[0;36m<cell line: 0>\u001b[0;34m()\u001b[0m\n\u001b[1;32m      9\u001b[0m         \u001b[0;32mexcept\u001b[0m \u001b[0mAttributeError\u001b[0m\u001b[0;34m:\u001b[0m\u001b[0;34m\u001b[0m\u001b[0;34m\u001b[0m\u001b[0m\n\u001b[1;32m     10\u001b[0m             \u001b[0mhoop\u001b[0m\u001b[0;34m.\u001b[0m\u001b[0mappend\u001b[0m\u001b[0;34m(\u001b[0m\u001b[0;34m[\u001b[0m\u001b[0mi\u001b[0m\u001b[0;34m,\u001b[0m\u001b[0;34m''\u001b[0m\u001b[0;34m]\u001b[0m\u001b[0;34m)\u001b[0m\u001b[0;34m\u001b[0m\u001b[0;34m\u001b[0m\u001b[0m\n\u001b[0;32m---> 11\u001b[0;31m \u001b[0mhoop\u001b[0m\u001b[0;34m[\u001b[0m\u001b[0;36m0\u001b[0m\u001b[0;34m]\u001b[0m\u001b[0;34m\u001b[0m\u001b[0;34m\u001b[0m\u001b[0m\n\u001b[0m",
            "\u001b[0;31mIndexError\u001b[0m: list index out of range"
          ]
        }
      ]
    },
    {
      "cell_type": "code",
      "source": [
        "# create dictionary with values as lists\n",
        "dct_lst= defaultdict(list)\n",
        "for i in hoop:\n",
        "    dct_lst[i[0]].append(i[1])\n",
        "u=[]\n",
        "for i in dct_lst.values(): # string join: lists of lists of strings\n",
        "    u.append(''.join(i))"
      ],
      "metadata": {
        "id": "ywlSbtvYTLsJ"
      },
      "execution_count": null,
      "outputs": []
    },
    {
      "cell_type": "code",
      "source": [
        "# one entry of our qualification text:\n",
        "u[2]"
      ],
      "metadata": {
        "colab": {
          "base_uri": "https://localhost:8080/",
          "height": 158
        },
        "id": "SEqAQRSyTLpW",
        "outputId": "24801e8a-0024-42fa-ec92-95e64f42920a"
      },
      "execution_count": null,
      "outputs": [
        {
          "output_type": "error",
          "ename": "IndexError",
          "evalue": "list index out of range",
          "traceback": [
            "\u001b[0;31m---------------------------------------------------------------------------\u001b[0m",
            "\u001b[0;31mIndexError\u001b[0m                                Traceback (most recent call last)",
            "\u001b[0;32m<ipython-input-7-c37f1d0ad40a>\u001b[0m in \u001b[0;36m<cell line: 0>\u001b[0;34m()\u001b[0m\n\u001b[1;32m      1\u001b[0m \u001b[0;31m# one entry of our qualification text:\u001b[0m\u001b[0;34m\u001b[0m\u001b[0;34m\u001b[0m\u001b[0m\n\u001b[0;32m----> 2\u001b[0;31m \u001b[0mu\u001b[0m\u001b[0;34m[\u001b[0m\u001b[0;36m2\u001b[0m\u001b[0;34m]\u001b[0m\u001b[0;34m\u001b[0m\u001b[0;34m\u001b[0m\u001b[0m\n\u001b[0m",
            "\u001b[0;31mIndexError\u001b[0m: list index out of range"
          ]
        }
      ]
    },
    {
      "cell_type": "code",
      "source": [
        "jobs_=pd.concat([pd.DataFrame(gg),pd.DataFrame(u,columns=['Qual_Text'])],axis=1)\n",
        "jobs_.head()"
      ],
      "metadata": {
        "id": "h8TWxuaaTLm5"
      },
      "execution_count": null,
      "outputs": []
    },
    {
      "cell_type": "code",
      "source": [
        "import re\n",
        "v=[]\n",
        "for i in jobs_['post_Date']:\n",
        "\n",
        "    if re.findall(r'[0-9]',i):\n",
        "        # if the string has digits convert each entry to single string: ['3','0']->'30'\n",
        "        b=''.join(re.findall(r'[0-9]',i))\n",
        "\n",
        "        # convert string int to int and subtract from today's date and format\n",
        "        g=(datetime.datetime.today()-datetime.timedelta(int(b))).strftime('%m-%d-%Y')\n",
        "\n",
        "        v.append(g)\n",
        "\n",
        "    else: # this will contain strings like: 'just posted' or 'today' etc before convert\n",
        "        v.append(datetime.datetime.today().strftime('%m-%d-%Y'))\n",
        "v[:5]\n"
      ],
      "metadata": {
        "id": "cQYLA1GyTLkh"
      },
      "execution_count": null,
      "outputs": []
    },
    {
      "cell_type": "code",
      "source": [
        "\n",
        "# fixed posting date to date format instead of string: last column\n",
        "jobs_['posting_date_fixed']\n",
        "jobs_.head()"
      ],
      "metadata": {
        "colab": {
          "base_uri": "https://localhost:8080/",
          "height": 176
        },
        "id": "IiaozVVBTLh_",
        "outputId": "ef0dd8d3-4ebf-4f13-f3e7-6552e09b0f77"
      },
      "execution_count": null,
      "outputs": [
        {
          "output_type": "error",
          "ename": "NameError",
          "evalue": "name 'jobs_' is not defined",
          "traceback": [
            "\u001b[0;31m---------------------------------------------------------------------------\u001b[0m",
            "\u001b[0;31mNameError\u001b[0m                                 Traceback (most recent call last)",
            "\u001b[0;32m<ipython-input-11-ac478e9d2fac>\u001b[0m in \u001b[0;36m<cell line: 0>\u001b[0;34m()\u001b[0m\n\u001b[1;32m      1\u001b[0m \u001b[0;31m# fixed posting date to date format instead of string: last column\u001b[0m\u001b[0;34m\u001b[0m\u001b[0;34m\u001b[0m\u001b[0m\n\u001b[0;32m----> 2\u001b[0;31m \u001b[0mjobs_\u001b[0m\u001b[0;34m[\u001b[0m\u001b[0;34m'posting_date_fixed'\u001b[0m\u001b[0;34m]\u001b[0m\u001b[0;34m\u001b[0m\u001b[0;34m\u001b[0m\u001b[0m\n\u001b[0m\u001b[1;32m      3\u001b[0m \u001b[0mjobs_\u001b[0m\u001b[0;34m.\u001b[0m\u001b[0mhead\u001b[0m\u001b[0;34m(\u001b[0m\u001b[0;34m)\u001b[0m\u001b[0;34m\u001b[0m\u001b[0;34m\u001b[0m\u001b[0m\n",
            "\u001b[0;31mNameError\u001b[0m: name 'jobs_' is not defined"
          ]
        }
      ]
    },
    {
      "cell_type": "code",
      "source": [
        "\n",
        "buzz_words=['Python','SQL','AWS', 'Machine learning','Deep learning','Text mining',\n",
        "'NLP','SAS','Tableau','Sagemaker','Tensorflow','Spark', 'numpy', 'MongDB','PSQL',\n",
        "\"Postgres\", 'Pandas', 'RESTFUL','NLP','Statistics','Algorithms','Visualization',\n",
        "'GCP','Google Cloud','Naive Bayes','Random Forest','Bachelors degree','Masters degree'\n",
        "'Java','Pyspark','Postgres','MySQL','Github','Docker','Machine Learning','C+',\n",
        "'C++','Pytorch','Jupyter Notebook','R Studio','R-Studio','Forecasting','Hive',\n",
        "'PhD','GCP','Numpy','NoSQL','Neo4j','Neural Network','Clustering','Linear Algebra',\n",
        "'Google Colab','Data Mining','Regression','Time Series','ETL','Data Wrangling',\n",
        "'Web Scraping','Feature Extraction','Featuring Engineering','Scipy','ML','DL']\n",
        "buzz_words_list=[x.lower() for x in buzz_words]  # convert list to lowercase to parse\n",
        "\n",
        "yo=[]\n",
        "for i in range(len(jobs_.Qual_Text)):\n",
        "    a=buzz_words_list\n",
        "    dd=[x for x in a if x in jobs_.Qual_Text[i].lower()]\n",
        "    yo.append(dd)\n",
        "jobs_['skill_matches']=yo\n",
        "jobs_.head(7)"
      ],
      "metadata": {
        "colab": {
          "base_uri": "https://localhost:8080/",
          "height": 211
        },
        "id": "-JVVCRXaTLfr",
        "outputId": "aafeb1f2-4c5e-4930-8dd9-775cb8a2c87a"
      },
      "execution_count": null,
      "outputs": [
        {
          "output_type": "error",
          "ename": "NameError",
          "evalue": "name 'jobs_' is not defined",
          "traceback": [
            "\u001b[0;31m---------------------------------------------------------------------------\u001b[0m",
            "\u001b[0;31mNameError\u001b[0m                                 Traceback (most recent call last)",
            "\u001b[0;32m<ipython-input-8-d219fe70bc03>\u001b[0m in \u001b[0;36m<cell line: 0>\u001b[0;34m()\u001b[0m\n\u001b[1;32m     11\u001b[0m \u001b[0;34m\u001b[0m\u001b[0m\n\u001b[1;32m     12\u001b[0m \u001b[0myo\u001b[0m\u001b[0;34m=\u001b[0m\u001b[0;34m[\u001b[0m\u001b[0;34m]\u001b[0m\u001b[0;34m\u001b[0m\u001b[0;34m\u001b[0m\u001b[0m\n\u001b[0;32m---> 13\u001b[0;31m \u001b[0;32mfor\u001b[0m \u001b[0mi\u001b[0m \u001b[0;32min\u001b[0m \u001b[0mrange\u001b[0m\u001b[0;34m(\u001b[0m\u001b[0mlen\u001b[0m\u001b[0;34m(\u001b[0m\u001b[0mjobs_\u001b[0m\u001b[0;34m.\u001b[0m\u001b[0mQual_Text\u001b[0m\u001b[0;34m)\u001b[0m\u001b[0;34m)\u001b[0m\u001b[0;34m:\u001b[0m\u001b[0;34m\u001b[0m\u001b[0;34m\u001b[0m\u001b[0m\n\u001b[0m\u001b[1;32m     14\u001b[0m     \u001b[0ma\u001b[0m\u001b[0;34m=\u001b[0m\u001b[0mbuzz_words_list\u001b[0m\u001b[0;34m\u001b[0m\u001b[0;34m\u001b[0m\u001b[0m\n\u001b[1;32m     15\u001b[0m     \u001b[0mdd\u001b[0m\u001b[0;34m=\u001b[0m\u001b[0;34m[\u001b[0m\u001b[0mx\u001b[0m \u001b[0;32mfor\u001b[0m \u001b[0mx\u001b[0m \u001b[0;32min\u001b[0m \u001b[0ma\u001b[0m \u001b[0;32mif\u001b[0m \u001b[0mx\u001b[0m \u001b[0;32min\u001b[0m \u001b[0mjobs_\u001b[0m\u001b[0;34m.\u001b[0m\u001b[0mQual_Text\u001b[0m\u001b[0;34m[\u001b[0m\u001b[0mi\u001b[0m\u001b[0;34m]\u001b[0m\u001b[0;34m.\u001b[0m\u001b[0mlower\u001b[0m\u001b[0;34m(\u001b[0m\u001b[0;34m)\u001b[0m\u001b[0;34m]\u001b[0m\u001b[0;34m\u001b[0m\u001b[0;34m\u001b[0m\u001b[0m\n",
            "\u001b[0;31mNameError\u001b[0m: name 'jobs_' is not defined"
          ]
        }
      ]
    },
    {
      "cell_type": "code",
      "source": [
        "filename='Indeed_scrape_Oct2020.txt'\n",
        "file=open(filename,'wb')\n",
        "pickle.dump(jobs_,file)\n",
        "\n",
        "file_ =open(filename,'rb')\n",
        "new_file_ =pickle.load(file_)\n",
        "new_file_.head(10)"
      ],
      "metadata": {
        "colab": {
          "base_uri": "https://localhost:8080/",
          "height": 211
        },
        "id": "EPkcxGPqTLdQ",
        "outputId": "59f3c189-4356-40a3-b389-98015ed218d0"
      },
      "execution_count": null,
      "outputs": [
        {
          "output_type": "error",
          "ename": "NameError",
          "evalue": "name 'jobs_' is not defined",
          "traceback": [
            "\u001b[0;31m---------------------------------------------------------------------------\u001b[0m",
            "\u001b[0;31mNameError\u001b[0m                                 Traceback (most recent call last)",
            "\u001b[0;32m<ipython-input-9-afc32ea5c33c>\u001b[0m in \u001b[0;36m<cell line: 0>\u001b[0;34m()\u001b[0m\n\u001b[1;32m      1\u001b[0m \u001b[0mfilename\u001b[0m\u001b[0;34m=\u001b[0m\u001b[0;34m'Indeed_scrape_Oct2020.txt'\u001b[0m\u001b[0;34m\u001b[0m\u001b[0;34m\u001b[0m\u001b[0m\n\u001b[1;32m      2\u001b[0m \u001b[0mfile\u001b[0m\u001b[0;34m=\u001b[0m\u001b[0mopen\u001b[0m\u001b[0;34m(\u001b[0m\u001b[0mfilename\u001b[0m\u001b[0;34m,\u001b[0m\u001b[0;34m'wb'\u001b[0m\u001b[0;34m)\u001b[0m\u001b[0;34m\u001b[0m\u001b[0;34m\u001b[0m\u001b[0m\n\u001b[0;32m----> 3\u001b[0;31m \u001b[0mpickle\u001b[0m\u001b[0;34m.\u001b[0m\u001b[0mdump\u001b[0m\u001b[0;34m(\u001b[0m\u001b[0mjobs_\u001b[0m\u001b[0;34m,\u001b[0m\u001b[0mfile\u001b[0m\u001b[0;34m)\u001b[0m\u001b[0;34m\u001b[0m\u001b[0;34m\u001b[0m\u001b[0m\n\u001b[0m\u001b[1;32m      4\u001b[0m \u001b[0;34m\u001b[0m\u001b[0m\n\u001b[1;32m      5\u001b[0m \u001b[0mfile_\u001b[0m \u001b[0;34m=\u001b[0m\u001b[0mopen\u001b[0m\u001b[0;34m(\u001b[0m\u001b[0mfilename\u001b[0m\u001b[0;34m,\u001b[0m\u001b[0;34m'rb'\u001b[0m\u001b[0;34m)\u001b[0m\u001b[0;34m\u001b[0m\u001b[0;34m\u001b[0m\u001b[0m\n",
            "\u001b[0;31mNameError\u001b[0m: name 'jobs_' is not defined"
          ]
        }
      ]
    },
    {
      "cell_type": "code",
      "source": [],
      "metadata": {
        "id": "MoPkIifUTLa5"
      },
      "execution_count": null,
      "outputs": []
    }
  ]
}