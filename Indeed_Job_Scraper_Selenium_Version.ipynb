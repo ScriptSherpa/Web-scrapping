{
  "nbformat": 4,
  "nbformat_minor": 0,
  "metadata": {
    "colab": {
      "provenance": [],
      "authorship_tag": "ABX9TyPbvqTHYxU5US1DogyL079M",
      "include_colab_link": true
    },
    "kernelspec": {
      "name": "python3",
      "display_name": "Python 3"
    },
    "language_info": {
      "name": "python"
    }
  },
  "cells": [
    {
      "cell_type": "markdown",
      "metadata": {
        "id": "view-in-github",
        "colab_type": "text"
      },
      "source": [
        "<a href=\"https://colab.research.google.com/github/ScriptSherpa/Web-scrapping/blob/main/Indeed_Job_Scraper_Selenium_Version.ipynb\" target=\"_parent\"><img src=\"https://colab.research.google.com/assets/colab-badge.svg\" alt=\"Open In Colab\"/></a>"
      ]
    },
    {
      "cell_type": "markdown",
      "source": [
        "Indeed Job Scraper - Selenium Version"
      ],
      "metadata": {
        "id": "HJdCcX1MZnNz"
      }
    },
    {
      "cell_type": "code",
      "execution_count": 1,
      "metadata": {
        "colab": {
          "base_uri": "https://localhost:8080/",
          "height": 383
        },
        "id": "QsIA83k4ZgWd",
        "outputId": "cc882e8a-e718-4a55-8ce5-9b51a3f1eb05"
      },
      "outputs": [
        {
          "output_type": "error",
          "ename": "ModuleNotFoundError",
          "evalue": "No module named 'msedge'",
          "traceback": [
            "\u001b[0;31m---------------------------------------------------------------------------\u001b[0m",
            "\u001b[0;31mModuleNotFoundError\u001b[0m                       Traceback (most recent call last)",
            "\u001b[0;32m<ipython-input-1-a4ab8f62aaaf>\u001b[0m in \u001b[0;36m<cell line: 0>\u001b[0;34m()\u001b[0m\n\u001b[1;32m      1\u001b[0m \u001b[0;32mimport\u001b[0m \u001b[0mcsv\u001b[0m\u001b[0;34m\u001b[0m\u001b[0;34m\u001b[0m\u001b[0m\n\u001b[1;32m      2\u001b[0m \u001b[0;32mfrom\u001b[0m \u001b[0mdatetime\u001b[0m \u001b[0;32mimport\u001b[0m \u001b[0mdatetime\u001b[0m\u001b[0;34m\u001b[0m\u001b[0;34m\u001b[0m\u001b[0m\n\u001b[0;32m----> 3\u001b[0;31m \u001b[0;32mfrom\u001b[0m \u001b[0mmsedge\u001b[0m\u001b[0;34m.\u001b[0m\u001b[0mselenium_tools\u001b[0m \u001b[0;32mimport\u001b[0m \u001b[0mEdge\u001b[0m\u001b[0;34m,\u001b[0m \u001b[0mEdgeOptions\u001b[0m\u001b[0;34m\u001b[0m\u001b[0;34m\u001b[0m\u001b[0m\n\u001b[0m\u001b[1;32m      4\u001b[0m \u001b[0;32mfrom\u001b[0m \u001b[0mselenium\u001b[0m\u001b[0;34m.\u001b[0m\u001b[0mcommon\u001b[0m\u001b[0;34m.\u001b[0m\u001b[0mexceptions\u001b[0m \u001b[0;32mimport\u001b[0m \u001b[0mNoSuchElementException\u001b[0m\u001b[0;34m,\u001b[0m \u001b[0mElementNotInteractableException\u001b[0m\u001b[0;34m\u001b[0m\u001b[0;34m\u001b[0m\u001b[0m\n",
            "\u001b[0;31mModuleNotFoundError\u001b[0m: No module named 'msedge'",
            "",
            "\u001b[0;31m---------------------------------------------------------------------------\u001b[0;32m\nNOTE: If your import is failing due to a missing package, you can\nmanually install dependencies using either !pip or !apt.\n\nTo view examples of installing some common dependencies, click the\n\"Open Examples\" button below.\n\u001b[0;31m---------------------------------------------------------------------------\u001b[0m\n"
          ],
          "errorDetails": {
            "actions": [
              {
                "action": "open_url",
                "actionText": "Open Examples",
                "url": "/notebooks/snippets/importing_libraries.ipynb"
              }
            ]
          }
        }
      ],
      "source": [
        "import csv\n",
        "from datetime import datetime\n",
        "from msedge.selenium_tools import Edge, EdgeOptions\n",
        "from selenium.common.exceptions import NoSuchElementException, ElementNotInteractableException"
      ]
    },
    {
      "cell_type": "code",
      "source": [
        "def get_url(position, location):\n",
        "    \"\"\"Generate url from position and location\"\"\"\n",
        "    template = 'https://www.indeed.com/jobs?q={}&l={}'\n",
        "    position = position.replace(' ', '+')\n",
        "    location = location.replace(' ', '+')\n",
        "    url = template.format(position, location)\n",
        "    return url\n"
      ],
      "metadata": {
        "id": "fuaYweh_Zroo"
      },
      "execution_count": null,
      "outputs": []
    },
    {
      "cell_type": "code",
      "source": [
        "def save_data_to_file(records):\n",
        "    \"\"\"Save data to csv file\"\"\"\n",
        "    with open('results.csv', 'w', newline='', encoding='utf-8') as f:\n",
        "        writer = csv.writer(f)\n",
        "        writer.writerow(['JobTitle', 'Company', 'Location', 'PostDate', 'ExtractDate', 'Summary', 'JobUrl'])\n",
        "        writer.writerows(records)"
      ],
      "metadata": {
        "id": "A7e3eiRyZsNE"
      },
      "execution_count": null,
      "outputs": []
    },
    {
      "cell_type": "code",
      "source": [
        "def get_record(card):\n",
        "    \"\"\"Extract job data from single card\"\"\"\n",
        "    job_title = card.find_element_by_class_name('jobtitle').text\n",
        "    company = card.find_element_by_class_name('company').text\n",
        "    location = card.find_element_by_class_name('location').text\n",
        "    post_date = card.find_element_by_class_name('date').text\n",
        "    extract_date = datetime.today().strftime('%Y-%m-%d')\n",
        "    summary = card.find_element_by_class_name('summary').text\n",
        "    job_url = card.find_element_by_class_name('jobtitle').get_attribute('href')\n",
        "    return (job_title, company, location, post_date, extract_date, summary, job_url)"
      ],
      "metadata": {
        "id": "w3r5BJePZuw6"
      },
      "execution_count": null,
      "outputs": []
    },
    {
      "cell_type": "code",
      "source": [
        "def get_page_records(cards, job_list, url_set):\n",
        "    \"\"\"Extract all cards from the page\"\"\"\n",
        "    for card in cards:\n",
        "        record = get_record(card)\n",
        "        # add if job title exists and not duplicate\n",
        "        if record[0] and record[-1] not in url_set:\n",
        "            job_list.append(record)\n",
        "            url_set.add(record[-1])"
      ],
      "metadata": {
        "id": "0VqbhhbBZwR2"
      },
      "execution_count": null,
      "outputs": []
    },
    {
      "cell_type": "code",
      "source": [
        "def main(position, location):\n",
        "    \"\"\"Run the main program routine\"\"\"\n",
        "    scraped_jobs = []\n",
        "    scraped_urls = set()\n",
        "\n",
        "    url = get_url(position, location)\n",
        "\n",
        "    # setup web driver\n",
        "    options = EdgeOptions()\n",
        "    options.use_chromium = True\n",
        "    driver = Edge(options=options)\n",
        "    driver.implicitly_wait(5)\n",
        "    driver.get(url)\n",
        "\n",
        "    # extract the job data\n",
        "    while True:\n",
        "        cards = driver.find_elements_by_class_name('jobsearch-SerpJobCard')\n",
        "        get_page_records(cards, scraped_jobs, scraped_urls)\n",
        "        try:\n",
        "            driver.find_element_by_xpath('//a[@aria-label=\"Next\"]').click()\n",
        "        except NoSuchElementException:\n",
        "            break\n",
        "        except ElementNotInteractableException:\n",
        "            driver.find_element_by_id('popover-x').click()  # to handle job notification popup\n",
        "            get_page_records(cards, scraped_jobs, scraped_urls)\n",
        "            continue\n",
        "\n",
        "    # close driver and save records\n",
        "    driver.quit()\n",
        "    save_data_to_file(scraped_jobs)"
      ],
      "metadata": {
        "id": "5BAo_vLlZzn2"
      },
      "execution_count": null,
      "outputs": []
    },
    {
      "cell_type": "code",
      "source": [
        "# run a search\n",
        "main('python developer', 'charlotte nc')"
      ],
      "metadata": {
        "id": "iXRdfxPeZ17S"
      },
      "execution_count": null,
      "outputs": []
    }
  ]
}