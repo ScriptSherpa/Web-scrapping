{
  "nbformat": 4,
  "nbformat_minor": 0,
  "metadata": {
    "colab": {
      "provenance": [],
      "authorship_tag": "ABX9TyOvadcmaI0mTMtjFc95vNcM",
      "include_colab_link": true
    },
    "kernelspec": {
      "name": "python3",
      "display_name": "Python 3"
    },
    "language_info": {
      "name": "python"
    }
  },
  "cells": [
    {
      "cell_type": "markdown",
      "metadata": {
        "id": "view-in-github",
        "colab_type": "text"
      },
      "source": [
        "<a href=\"https://colab.research.google.com/github/ScriptSherpa/Web-scrapping/blob/main/webscraping1202.ipynb\" target=\"_parent\"><img src=\"https://colab.research.google.com/assets/colab-badge.svg\" alt=\"Open In Colab\"/></a>"
      ]
    },
    {
      "cell_type": "code",
      "execution_count": null,
      "metadata": {
        "id": "z3_-bS_mUiSb"
      },
      "outputs": [],
      "source": [
        "import requests\n",
        "from bs4 import BeautifulSoup\n",
        "import pandas as pd\n"
      ]
    },
    {
      "cell_type": "code",
      "source": [
        "def get_url(position, location):\n",
        "    template = \"https://my.jobstreet.com/{}-jobs-jobs/in-{}\"\n",
        "    url = template.format(position.replace(\" \", \"-\"), location.replace(\" \", \"-\"))\n",
        "    return url\n",
        "\n",
        "# Example usage:\n",
        "print(get_url(\"software engineer\", \"kuala lumpur\"))\n",
        "# Output: https://my.jobstreet.com/software-engineer-jobs-jobs/in-kuala-lumpur\n"
      ],
      "metadata": {
        "colab": {
          "base_uri": "https://localhost:8080/"
        },
        "id": "82iOpbbjV4Al",
        "outputId": "6f49c5bb-21f9-4f2f-f972-feb4e7c17715"
      },
      "execution_count": null,
      "outputs": [
        {
          "output_type": "stream",
          "name": "stdout",
          "text": [
            "https://my.jobstreet.com/software-engineer-jobs-jobs/in-kuala-lumpur\n"
          ]
        }
      ]
    },
    {
      "cell_type": "code",
      "source": [
        "response = requests.get(get_url(\"software engineer\", \"kuala lumpur\"))\n",
        "response"
      ],
      "metadata": {
        "colab": {
          "base_uri": "https://localhost:8080/"
        },
        "id": "DYBJP9F5X_hP",
        "outputId": "d9412c96-4c03-4d3c-aaed-bdbd3098dea0"
      },
      "execution_count": null,
      "outputs": [
        {
          "output_type": "execute_result",
          "data": {
            "text/plain": [
              "<Response [200]>"
            ]
          },
          "metadata": {},
          "execution_count": 3
        }
      ]
    },
    {
      "cell_type": "code",
      "source": [
        "import requests\n",
        "\n",
        "def fetch_page(url):\n",
        "    headers = {\n",
        "        \"User-Agent\": \"Mozilla/5.0 (Windows NT 10.0; Win64; x64) AppleWebKit/537.36 (KHTML, like Gecko) Chrome/91.0.4472.124 Safari/537.36\"\n",
        "    }\n",
        "\n",
        "    response = requests.get(url, headers=headers)  # Send request with headers\n",
        "    if response.status_code == 200:\n",
        "        print(\"Request Successful ✅\")\n",
        "        return response.text  # Return HTML content\n",
        "    else:\n",
        "        print(f\"Request Failed ❌ - Status Code: {response.status_code}\")\n",
        "        return None\n",
        "\n",
        "# Example usage\n",
        "url = \"https://my.jobstreet.com/software-engineer-jobs-jobs/in-kuala-lumpur\"\n",
        "html_content = fetch_page(url)\n",
        "print(html_content[:500])  # Print first 500 characters of the page\n"
      ],
      "metadata": {
        "colab": {
          "base_uri": "https://localhost:8080/"
        },
        "id": "JLBcv1lFXwu9",
        "outputId": "3d76159a-fcc7-4c2d-f5fd-4a88e0f02eee"
      },
      "execution_count": null,
      "outputs": [
        {
          "output_type": "stream",
          "name": "stdout",
          "text": [
            "Request Successful ✅\n",
            "<!doctype html>\n",
            "<html lang=\"en\" prefix=\"og: http://ogp.me/ns#\">\n",
            "  <head>\n",
            "  <meta charset=\"utf-8\">\n",
            "  <meta name=\"referrer\" content=\"no-referrer-when-downgrade\">\n",
            "  <meta name=\"apple-mobile-web-app-capable\" content=\"yes\">\n",
            "  <meta name=\"apple-mobile-web-app-title\" content=\"Jobstreet\">\n",
            "  <meta name=\"mobile-web-app-capable\" content=\"yes\">\n",
            "  <meta name=\"request-id\" content=\"MC42MTAwOTE5MjIzNjE4ODIx\">\n",
            "  <meta name=\"theme-color\" content=\"#fff\">\n",
            "  <meta name=\"viewport\" content=\"width=device-width, initial\n"
          ]
        }
      ]
    },
    {
      "cell_type": "code",
      "source": [
        "import requests\n",
        "from bs4 import BeautifulSoup\n",
        "\n",
        "def fetch_page(url):\n",
        "    headers = {\n",
        "        \"User-Agent\": \"Mozilla/5.0 (Windows NT 10.0; Win64; x64) AppleWebKit/537.36 (KHTML, like Gecko) Chrome/91.0.4472.124 Safari/537.36\"\n",
        "    }\n",
        "\n",
        "    response = requests.get(url, headers=headers)\n",
        "\n",
        "    if response.status_code == 200:\n",
        "        print(\"Request Successful ✅\")\n",
        "        soup = BeautifulSoup(response.text, \"html.parser\")  # Create BeautifulSoup object\n",
        "        return soup\n",
        "    else:\n",
        "        print(f\"Request Failed ❌ - Status Code: {response.status_code}\")\n",
        "        return None\n",
        "\n",
        "# Example usage\n",
        "url = \"https://my.jobstreet.com/software-engineer-jobs-jobs/in-kuala-lumpur\"\n",
        "soup = fetch_page(url)\n",
        "\n",
        "# Print formatted HTML (first 500 characters)\n",
        "print(soup.prettify()[:5000])\n"
      ],
      "metadata": {
        "colab": {
          "base_uri": "https://localhost:8080/"
        },
        "id": "FSBkzo2KZ5oo",
        "outputId": "f37488c5-3e6f-4378-df4f-803e6c24a0c7"
      },
      "execution_count": null,
      "outputs": [
        {
          "output_type": "stream",
          "name": "stdout",
          "text": [
            "Request Successful ✅\n",
            "<!DOCTYPE html>\n",
            "<html lang=\"en\" prefix=\"og: http://ogp.me/ns#\">\n",
            " <head>\n",
            "  <meta charset=\"utf-8\"/>\n",
            "  <meta content=\"no-referrer-when-downgrade\" name=\"referrer\"/>\n",
            "  <meta content=\"yes\" name=\"apple-mobile-web-app-capable\"/>\n",
            "  <meta content=\"Jobstreet\" name=\"apple-mobile-web-app-title\"/>\n",
            "  <meta content=\"yes\" name=\"mobile-web-app-capable\"/>\n",
            "  <meta content=\"MC42MjUyNzY5MTg3MjE5ODUx\" name=\"request-id\"/>\n",
            "  <meta content=\"#fff\" name=\"theme-color\"/>\n",
            "  <meta content=\"width=device-width, initial-scale=1\" name=\"viewport\"/>\n",
            "  <link href=\"/static/shared-web/favicon-4e1897dfd0901e8a3bf7e604d3a90636.ico\" rel=\"icon\"/>\n",
            "  <link href=\"/static/shared-web/iphone-7c4d7dcb05fece466d8901945e36bbaa.png\" rel=\"apple-touch-icon\"/>\n",
            "  <link href=\"/static/shared-web/ipad-96988dd1c0902fd20b34ce260d03729b.png\" rel=\"apple-touch-icon\" sizes=\"76x76\"/>\n",
            "  <link href=\"/static/shared-web/iphoneRetina-c772d091f011ef7ce26f631360de4907.png\" rel=\"apple-touch-icon\" sizes=\"120x120\"/>\n",
            "  <link href=\"/static/shared-web/ipadRetina-8a06978f3bf7985f413edcb5113c9783.png\" rel=\"apple-touch-icon\" sizes=\"152x152\"/>\n",
            "  <meta content=\"https://my.jobstreet.com/static/shared-web/banner-4823bc492a11077075c375b74c739042.png\" name=\"twitter:image\"/>\n",
            "  <meta content=\"summary\" name=\"twitter:card\"/>\n",
            "  <meta content=\"@JobstreetMY\" name=\"twitter:site\"/>\n",
            "  <meta content=\"https://my.jobstreet.com/static/shared-web/banner-4823bc492a11077075c375b74c739042.png\" property=\"og:image\"/>\n",
            "  <meta content=\"1200\" property=\"og:image:width\"/>\n",
            "  <meta content=\"1200\" property=\"og:image:height\"/>\n",
            "  <meta content=\"website\" property=\"og:type\"/>\n",
            "  <meta content=\"Jobstreet\" property=\"og:site_name\"/>\n",
            "  <meta content=\"en_GB\" property=\"og:locale\"/>\n",
            "  <link href=\"/static/shared-web/manifest-0b7a01d4cbf63f1e09d29369f1b0f6e1.json\" rel=\"manifest\"/>\n",
            "  <style type=\"text/css\">\n",
            "   /* latin */\n",
            "@font-face {font-family: SeekSans;font-weight: 500 700;src: url('/static/shared-web/SEEKSans-Latin-Medium-0d7bb139d5772bf159e2d6ab7664bb49.woff2') format('woff2'),url('/static/shared-web/SEEKSans-Latin-Medium-33ee823026b461fd5f8519b9ec890974.woff') format('woff');font-display: swap;unicode-range: U+0000-00FF, U+0100-017F, U+0180-024F, U+20A0-20CF, U+02B0-02FF, U+2000-206F, U+2190-21FF, U+2122, U+FEFF, U+FFFD;}\n",
            "@font-face {font-family: SeekSans;src: url('/static/shared-web/SEEKSans-Latin-Regular-03b2f80a92410122dbd1e0f56109c3a0.woff2') format('woff2'),url('/static/shared-web/SEEKSans-Latin-Regular-e8afb4047edc1d279a35f9c327a58db2.woff') format('woff');font-display: swap;unicode-range: U+0000-00FF, U+0100-017F, U+0180-024F, U+20A0-20CF, U+02B0-02FF, U+2000-206F, U+2190-21FF, U+2122, U+FEFF, U+FFFD;}\n",
            "/* thai */\n",
            "@font-face {font-family: SeekSans;font-weight: 500 700;src: url('/static/shared-web/SEEKSans-Thai-Medium-d0f1f228aea9cf26e1b86b0c30ff4ed0.woff2') format('woff2'),url('/static/shared-web/SEEKSans-Thai-Medium-66b5f82427aa0e37e92cef3799f49e2a.woff') format('woff');font-display: swap;unicode-range: U+0E01-0E5B, U+200C-200D, U+25CC;}\n",
            "@font-face {font-family: SeekSans;src: url('/static/shared-web/SEEKSans-Thai-Regular-1ff56d415b57f8d176033fe7e7e6114a.woff2') format('woff2'),url('/static/shared-web/SEEKSans-Thai-Regular-d1179b08eeaec0e32a695e5d2e72bf9f.woff') format('woff');font-display: swap;unicode-range: U+0E01-0E5B, U+200C-200D, U+25CC;}\n",
            "/* latin - fallback */\n",
            "@font-face {font-family: \"SeekSans Fallback\";src: local('Arial Bold'), local('Arial-BoldMT');font-weight: 500 700;unicode-range: U+0000-00FF, U+0100-017F, U+0180-024F, U+20A0-20CF, U+02B0-02FF, U+2000-206F, U+2190-21FF, U+2122, U+FEFF, U+FFFD;ascent-override: 99.6737%;descent-override: 25.8378%;line-gap-override: 0%;size-adjust: 106.046%;}\n",
            "@font-face {font-family: \"SeekSans Fallback\";src: local('Arial'), local('ArialMT');unicode-range: U+0000-00FF, U+0100-017F, U+0180-024F, U+20A0-20CF, U+02B0-02FF, U+2000-206F, U+2190-21FF, U+2122, U+FEFF, U+FFFD;ascent-override: 93.8668%;descent-override: 24.3326%;line-gap-override: 0%;size-adjust: 112.6064%;}\n",
            "/* thai - fallback */\n",
            "@font-face {font-family: \"SeekSans Fallback\";src: local('Tahoma Bold'), local('Tahoma-Bold');font-weight: 500 700;unicode-range: U+0E01-0E5B, U+200C-200D, U+25CC;ascent-override: 103.8801%;descent-override: 26.9282%;size-adjust: 101.7519%;}\n",
            "@font-face {font-family: \"SeekSans Fallback\";src: local('Tahoma');unicode-range: U+0E01-0E5B, U+200C-200D, U+25CC;ascent-override: 95.5394%;descent-override: 24.7661%;size-adjust: 110.635%;}\n",
            "  </style>\n",
            "  <link href=\"https://bx-branding-gateway.cloud.seek.com.au\" rel=\"preconnect\"/>\n",
            "  <link href=\"https://image-service-cdn.seek.com.au\" rel=\"preconnect\"/>\n",
            "  <link href=\"https://web.aips-sol.com\" rel=\"preconnect\"/>\n",
            "  <link href=\"https://cdn.seeklearning.com.au\" rel=\"preconnect\"/>\n",
            "  <link href=\"https://bx-branding-gateway.cloud.seek.com.au\" rel=\"dns-prefetch\"/>\n",
            "  <link href=\"https://image-service-cdn.seek.com.au\" rel=\"dns-prefetch\"/>\n",
            "  <link href=\"https://web.aips-sol.com\" rel=\"dns-prefetch\"/>\n",
            "  <link href=\"https://cdn.seeklearning.com.au\" rel=\"dns-prefetch\"/>\n",
            "  <link dat\n"
          ]
        }
      ]
    },
    {
      "cell_type": "code",
      "source": [
        "# fetching job cards\n",
        "cards = soup.find_all('article','class=\"gepq850 gepq851 eihuid8n eihuid8o eihuid7j eihuid7k eihuidav eihuidaw eihuid9r eihuid9s eihuidh eihuid67 eihuid5f k5millb k5mill9 k5milla i7p5ej18 i7p5ej1b eihuid33 eihuid36\"')\n",
        "print(len(cards))"
      ],
      "metadata": {
        "colab": {
          "base_uri": "https://localhost:8080/"
        },
        "id": "tA_Yvtmqg4pu",
        "outputId": "978383fc-440f-4d66-e35d-2b09c2f0674a"
      },
      "execution_count": null,
      "outputs": [
        {
          "output_type": "stream",
          "name": "stdout",
          "text": [
            "0\n"
          ]
        }
      ]
    },
    {
      "cell_type": "code",
      "source": [
        "cards= soup.find_all('article',{'data-card-type':'JobCard'})\n",
        "print(len(cards))"
      ],
      "metadata": {
        "colab": {
          "base_uri": "https://localhost:8080/"
        },
        "id": "gWcX3pFwivyb",
        "outputId": "747fa8a4-c98e-4dc7-f94e-04b26a81614b"
      },
      "execution_count": null,
      "outputs": [
        {
          "output_type": "stream",
          "name": "stdout",
          "text": [
            "32\n"
          ]
        }
      ]
    },
    {
      "cell_type": "code",
      "source": [
        "# lets build protoypefor first card\n",
        "\n",
        "card =cards[0]\n",
        "card"
      ],
      "metadata": {
        "colab": {
          "base_uri": "https://localhost:8080/"
        },
        "id": "F2HGaJwpmTnf",
        "outputId": "00b7b4f6-8fca-4a07-a377-9e0634ccaab8"
      },
      "execution_count": null,
      "outputs": [
        {
          "output_type": "execute_result",
          "data": {
            "text/plain": [
              "<article aria-label=\"Software Engineer (Junior / Senior)\" aria-selected=\"false\" class=\"gepq850 gepq851 eihuid8n eihuid8o eihuid7j eihuid7k eihuidav eihuidaw eihuid9r eihuid9s eihuidh eihuid67 eihuid5f k5millb k5mill9 k5milla i7p5ej18 i7p5ej1b eihuid33 eihuid36\" data-automation=\"normalJob\" data-card-type=\"JobCard\" data-job-id=\"81778149\" data-testid=\"job-card\" id=\"jobcard-1\"><div class=\"gepq850 eihuid4z eihuid4x\"><a class=\"gepq850 gepq85f gepq850 gepq85f eihuid5j eihuidj eihuidk eihuidl eihuidm eihuid7\" data-automation=\"job-list-view-job-link\" href=\"/job/81778149?type=standard&amp;ref=search-standalone\" target=\"_blank\"></a></div><div class=\"gepq850 eihuid4v eihuid51\"><a class=\"gepq850 gepq85f gepq850 gepq85f eihuid5j eihuidj eihuidk eihuidl eihuidm eihuid7 k5mill4\" data-automation=\"job-list-item-link-overlay\" data-run-click-only=\"true\" data-testid=\"job-list-item-link-overlay\" href=\"/job/81778149?type=standard&amp;ref=search-standalone&amp;origin=jobCard\" target=\"_self\"></a></div><div class=\"gepq850 eihuid5j eihuid0 _1qnq8v60\">Listed eleven days ago</div><div class=\"gepq850 eihuid5b eihuidhf eihuid6v\"><div class=\"gepq850 eihuid5b eihuidh7 eihuidgr eihuidn _16qi62m2d\"><div class=\"gepq850 eihuid4z eihuidr eihuidp eihuidi3 eihuidb7\"><div class=\"gepq850 eihuid5b eihuidhf eihuid6n\"><div class=\"gepq850 eihuid5b eihuidhf eihuid6r\"><div class=\"gepq850 xzpvye1\" data-automation=\"company-logo-container\" data-testid=\"company-logo-container\"><div class=\"gepq850 eihuid5b eihuidn\" data-automation=\"company-logo\"><img class=\"xzpvye0\" loading=\"lazy\" src=\"https://bx-branding-gateway.cloud.seek.com.au/06dd407e-8fce-4dc3-be6e-0580ab4bb3b2.1/serpLogo\"/></div></div></div><div class=\"gepq850 eihuid5b eihuidhf eihuid6r\"><div class=\"gepq850\"><h3 class=\"gepq850 eihuid4z i7p5ej0 i7p5ej3 i7p5ej21 _18ybopc4 i7p5eja\"><div class=\"gepq850 eihuid5h eihuid53\"><a class=\"gepq850 gepq85f gepq850 gepq85f k5mille k5millg\" data-automation=\"jobTitle\" data-run-click-only=\"true\" data-testid=\"job-card-title\" href=\"/job/81778149?type=standard&amp;ref=search-standalone&amp;origin=cardTitle\" id=\"job-title-81778149\" target=\"_self\">Software Engineer (Junior / Senior)</a></div></h3><div class=\"gepq850 eihuid7v\"><span class=\"gepq850 eihuid4z i7p5ej0 i7p5ej1 i7p5ej21 _18ybopc4 i7p5eja\"><div class=\"gepq850 eihuid5h eihuid53\"><span class=\"gepq850 eihuid5j eihuid0 _1qnq8v60\">at<!-- --> </span><a aria-label=\"Jobs at RW Tech Labs (a Genting company)\" class=\"gepq850 gepq85f gepq850 gepq85f _1keysrr0 _1keysrr1\" data-automation=\"jobCompany\" data-type=\"company\" href=\"/RW-Tech-Labs-(a-Genting-company)-jobs\" target=\"_self\" title=\"Jobs at RW Tech Labs (a Genting company)\">RW Tech Labs (a Genting company)</a></div></span></div></div></div></div></div><div class=\"gepq850 eihuid4z eihuidr eihuidhv eihuidhz eihuidb7\"><div class=\"gepq850 eihuid5h eihuid53\"><div class=\"gepq850 _16qi62m0 _16qi62m4 _16qi62m1 _16qi62m18 _16qi62m2c _16qi62m3g\"><div class=\"gepq850 eihuid5f\"><button aria-label=\"Sign in to save this job\" class=\"gepq850 gepq857 eihuid8v eihuid7r eihuidb3 eihuid9z eihuid7 eihuidw eihuid5v eihuidp eihuid5f eihuid5b eihuidgj eihuidgv eihuidz eihuidy eihuid5 eihuidib eihuid4 eihuidh vqygka0 vqygka6 _1ucsmu70 f9bd8p0\" data-automation=\"signed-out-save-job\" data-testid=\"signed-out-save-job\" id=\"serp-signed-out-save-job-81778149\" tabindex=\"0\" type=\"button\"><span class=\"gepq850 eihuidj eihuidk eihuidl eihuidm eihuid5j eihuidi eihuid5v eihuidx eihuid6 _1g7rtu60 vqygka4 eihuid4t eihuid4u\"></span><span class=\"gepq850 eihuidj eihuidk eihuidl eihuidm eihuid5j eihuidi eihuid5v eihuidx eihuid6 vqygka3 vqygkai i7p5ej18 i7p5ej1a eihuid2t eihuid2u\"></span><span class=\"gepq850 eihuidj eihuidk eihuidl eihuidm eihuid5j eihuidi eihuid5v eihuidx eihuid6 vqygka2 vqygkaj i7p5ej18 i7p5ej1a eihuid2r eihuid2s\"></span><span class=\"gepq850 eihuid4z eihuid5f _74wkf80 i7p5eji _74wkf81\"><svg aria-hidden=\"true\" class=\"gepq850 eihuidp eihuidn eihuid4z i7p5ej21\" fill=\"currentColor\" focusable=\"false\" height=\"16\" viewbox=\"0 0 24 24\" width=\"16\" xml:space=\"preserve\" xmlns=\"http://www.w3.org/2000/svg\"><path d=\"M19 5.1c.1-1.6-1.1-2.9-2.7-3.1H7.6C6.1 2.1 4.9 3.5 5 5v16c0 .4.2.7.5.9.3.2.7.2 1 0l5.4-3.6 5.4 3.6c.2.1.4.2.6.2.2 0 .3 0 .5-.1.3-.2.5-.5.5-.9l.1-16zm-2 14-4.4-3c-.3-.2-.8-.2-1.1 0l-4.4 3L7 4.9c0-.4.3-.9.7-.9h8.5c.5 0 .8.5.8 1v14.1z\"></path></svg></span></button></div></div></div></div></div><div class=\"gepq850 eihuid5j eihuid0 _1qnq8v60\"><p class=\"gepq850\">This is a Full time job</p></div><div class=\"gepq850 eihuid5b eihuidhf eihuid6n\"><div class=\"gepq850\"><span class=\"gepq850 eihuid4z i7p5ej0 i7p5ej1 i7p5ej21 _18ybopc4 i7p5ej7\"><span class=\"gepq850\" data-automation=\"jobCardLocation\"><a aria-label=\"Limit results to Kuala Lumpur\" class=\"gepq850 gepq85f gepq850 gepq85f _1keysrr0 _1keysrr2\" data-automation=\"jobLocation\" data-type=\"location\" href=\"/software-engineer-jobs-jobs/in-Kuala-Lumpur\" tabindex=\"-1\" target=\"_self\" title=\"Limit results to Kuala Lumpur\">Kuala Lumpur</a></span></span></div><div class=\"gepq850 eihuid4v eihuid50\"><span class=\"gepq850 eihuid4z i7p5ej0 i7p5ej1 i7p5ej21 _18ybopc4 i7p5ej7\"><div class=\"gepq850 eihuid5b eihuidh7 eihuidgf eihuid7f eihuidhn _5qpagp0\"><span class=\"gepq850 eihuid5j eihuid0 _1qnq8v60\">subClassification: Engineering - Software</span><span class=\"gepq850\" data-automation=\"jobSubClassification\" data-type=\"subClassification\">Engineering - Software</span><div class=\"gepq850 eihuidff\"></div><span class=\"gepq850 eihuid5j eihuid0 _1qnq8v60\">classification: Information &amp; Communication Technology</span><span class=\"gepq850\" data-automation=\"jobClassification\" data-type=\"classification\">(Information &amp; Communication Technology)</span></div></span></div></div><ul class=\"gepq850 gepq853 eihuid5b eihuidhf eihuid6n eihuidi7\"><li class=\"gepq850 eihuid5b\"><div class=\"gepq850 eihuid4z i7p5ej0 i7p5ej1 i7p5ej21 _18ybopc4 i7p5ej7\"><div aria-hidden=\"true\" class=\"gepq850 eihuid5b eihuidgj eihuid4 if74j01\"><div class=\"gepq850 eihuid5v _16bj8lx0 _16bj8lx2\"></div></div></div><div class=\"gepq850 eihuidr eihuidp eihuidb7\"><span class=\"gepq850 eihuid4z i7p5ej0 i7p5ej1 i7p5ej21 _18ybopc4 i7p5ej7\">Hybrid Work Arrangement</span></div></li><li class=\"gepq850 eihuid5b\"><div class=\"gepq850 eihuid4z i7p5ej0 i7p5ej1 i7p5ej21 _18ybopc4 i7p5ej7\"><div aria-hidden=\"true\" class=\"gepq850 eihuid5b eihuidgj eihuid4 if74j01\"><div class=\"gepq850 eihuid5v _16bj8lx0 _16bj8lx2\"></div></div></div><div class=\"gepq850 eihuidr eihuidp eihuidb7\"><span class=\"gepq850 eihuid4z i7p5ej0 i7p5ej1 i7p5ej21 _18ybopc4 i7p5ej7\">Young, Dynamic &amp; Flexible Working Culture</span></div></li><li class=\"gepq850 eihuid5b\"><div class=\"gepq850 eihuid4z i7p5ej0 i7p5ej1 i7p5ej21 _18ybopc4 i7p5ej7\"><div aria-hidden=\"true\" class=\"gepq850 eihuid5b eihuidgj eihuid4 if74j01\"><div class=\"gepq850 eihuid5v _16bj8lx0 _16bj8lx2\"></div></div></div><div class=\"gepq850 eihuidr eihuidp eihuidb7\"><span class=\"gepq850 eihuid4z i7p5ej0 i7p5ej1 i7p5ej21 _18ybopc4 i7p5ej7\">Birthday Leave, Birthday Meal Allowance, Team Building Activities</span></div></li></ul><div class=\"gepq850 eihuid5b eihuidhf eihuid6v\"><span class=\"gepq850 eihuid4z i7p5ej0 i7p5ej1 i7p5ej22 _18ybopc4 i7p5ej7\" data-automation=\"jobListingDate\">11d ago</span></div></div></article>"
            ]
          },
          "metadata": {},
          "execution_count": 12
        }
      ]
    },
    {
      "cell_type": "code",
      "source": [
        "# fetch  the job name\n",
        "\n",
        "job_url =card.find('a',{'data-testid': 'job-card-title'})\n",
        "\n",
        "job_url ='https://my.jobstreet.com'+job_url['href']\n",
        "print(job_url)\n"
      ],
      "metadata": {
        "colab": {
          "base_uri": "https://localhost:8080/"
        },
        "id": "c5MIDoFWnbyP",
        "outputId": "073f375f-305b-4dee-f313-5e9d7073a090"
      },
      "execution_count": null,
      "outputs": [
        {
          "output_type": "stream",
          "name": "stdout",
          "text": [
            "https://my.jobstreet.com/job/81778149?type=standard&ref=search-standalone&origin=cardTitle\n"
          ]
        }
      ]
    },
    {
      "cell_type": "code",
      "source": [
        "# fetching company name\n",
        "cname = card.find('a',{'data-automation':'jobCompany'})\n",
        "print(cname.text)\n",
        "print(cname)"
      ],
      "metadata": {
        "colab": {
          "base_uri": "https://localhost:8080/"
        },
        "id": "pM--ep3qrId8",
        "outputId": "4556641c-c8ed-4e3d-cbd6-32ba6bf57d00"
      },
      "execution_count": null,
      "outputs": [
        {
          "output_type": "stream",
          "name": "stdout",
          "text": [
            "RW Tech Labs (a Genting company)\n",
            "<a aria-label=\"Jobs at RW Tech Labs (a Genting company)\" class=\"gepq850 gepq85f gepq850 gepq85f _1keysrr0 _1keysrr1\" data-automation=\"jobCompany\" data-type=\"company\" href=\"/RW-Tech-Labs-(a-Genting-company)-jobs\" target=\"_self\" title=\"Jobs at RW Tech Labs (a Genting company)\">RW Tech Labs (a Genting company)</a>\n"
          ]
        }
      ]
    },
    {
      "cell_type": "code",
      "source": [
        "job_loc = card.find('a',{'data-automation':'jobLocation'})\n",
        "job_loc = job_loc.text\n",
        "print(job_loc)"
      ],
      "metadata": {
        "colab": {
          "base_uri": "https://localhost:8080/"
        },
        "id": "BzFVFRUZr2oo",
        "outputId": "3bdf2e68-a173-4c8b-d9f6-4eda3bf53242"
      },
      "execution_count": null,
      "outputs": [
        {
          "output_type": "stream",
          "name": "stdout",
          "text": [
            "Kuala Lumpur\n"
          ]
        }
      ]
    }
  ]
}