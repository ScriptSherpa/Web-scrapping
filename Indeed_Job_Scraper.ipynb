{
  "nbformat": 4,
  "nbformat_minor": 0,
  "metadata": {
    "colab": {
      "provenance": [],
      "authorship_tag": "ABX9TyPiQahONu+TluOAMF7fjvOC",
      "include_colab_link": true
    },
    "kernelspec": {
      "name": "python3",
      "display_name": "Python 3"
    },
    "language_info": {
      "name": "python"
    }
  },
  "cells": [
    {
      "cell_type": "markdown",
      "metadata": {
        "id": "view-in-github",
        "colab_type": "text"
      },
      "source": [
        "<a href=\"https://colab.research.google.com/github/ScriptSherpa/Web-scrapping/blob/main/Indeed_Job_Scraper.ipynb\" target=\"_parent\"><img src=\"https://colab.research.google.com/assets/colab-badge.svg\" alt=\"Open In Colab\"/></a>"
      ]
    },
    {
      "cell_type": "markdown",
      "source": [
        "\n",
        "Indeed Job Scraper"
      ],
      "metadata": {
        "id": "r4j8MnDJaTsM"
      }
    },
    {
      "cell_type": "code",
      "execution_count": 1,
      "metadata": {
        "id": "R0gUWzYyaHhi"
      },
      "outputs": [],
      "source": [
        "from bs4 import BeautifulSoup\n",
        "import requests\n",
        "import csv\n",
        "from time import sleep\n",
        "from random import randint\n",
        "from datetime import datetime"
      ]
    },
    {
      "cell_type": "code",
      "source": [
        "headers = {\n",
        "    'accept': 'text/html,application/xhtml+xml,application/xml;q=0.9,image/webp,image/apng,*/*;q=0.8,application/signed-exchange;v=b3;q=0.9',\n",
        "    'accept-encoding': 'gzip, deflate, br',\n",
        "    'accept-language': 'en-US,en;q=0.9',\n",
        "    'cache-control': 'max-age=0',\n",
        "    'sec-fetch-dest': 'document',\n",
        "    'sec-fetch-mode': 'navigate',\n",
        "    'sec-fetch-site': 'none',\n",
        "    'sec-fetch-user': '?1',\n",
        "    'upgrade-insecure-requests': '1',\n",
        "    'user-agent': 'Mozilla/5.0 (Windows NT 10.0; Win64; x64) AppleWebKit/537.36 (KHTML, like Gecko) Chrome/87.0.4280.67 Safari/537.36 Edg/87.0.664.47'\n",
        "}\n",
        "\n",
        "def get_url(position, location):\n",
        "        template = 'https://www.indeed.com/jobs?q={}&l={}'\n",
        "        url = template.format(position, location)\n",
        "        return url\n",
        "\n",
        "def get_record(card):\n",
        "    '''Extract job date from a single record '''\n",
        "    atag = card.h2.a\n",
        "    try:\n",
        "        job_title = atag.get('title')\n",
        "    except AttributeError:\n",
        "        job_title = ''\n",
        "    try:\n",
        "        company = card.find('span', 'company').text.strip()\n",
        "    except AttributeError:\n",
        "        company = ''\n",
        "    try:\n",
        "        location = card.find('div', 'recJobLoc').get('data-rc-loc')\n",
        "    except AttributeError:\n",
        "        location = ''\n",
        "    try:\n",
        "        job_summary = card.find('div', 'summary').text.strip()\n",
        "    except AttributeError:\n",
        "        job_summary = ''\n",
        "    try:\n",
        "        post_date = card.find('span', 'date').text.strip()\n",
        "    except AttributeError:\n",
        "        post_date = ''\n",
        "    try:\n",
        "        salary = card.find('span', 'salarytext').text.strip()\n",
        "    except AttributeError:\n",
        "        salary = ''\n",
        "\n",
        "    extract_date = datetime.today().strftime('%Y-%m-%d')\n",
        "    job_url = 'https://www.indeed.com' + atag.get('href')\n",
        "\n",
        "    return (job_title, company, location, job_summary, salary, post_date, extract_date, job_url)\n",
        "\n",
        "def main(position, location):\n",
        "    # Run the main program reouting\n",
        "    records = []  # creating the record list\n",
        "    url = get_url(position, location)  # create the url while passing in the position and location.\n",
        "\n",
        "    while True:\n",
        "        print(url)\n",
        "        response = requests.get(url, headers=headers)\n",
        "        soup = BeautifulSoup(response.text, 'html.parser')\n",
        "        cards = soup.find_all('div', 'jobsearch-SerpJobCard')\n",
        "\n",
        "        for card in cards:\n",
        "            record = get_record(card)\n",
        "            records.append(record)\n",
        "\n",
        "        try:\n",
        "            url = 'https://www.indeed.com' + soup.find('a', {'aria-label': 'Next'}).get('href')\n",
        "            delay = randint(1, 10)\n",
        "            sleep(delay)\n",
        "        except AttributeError:\n",
        "            break\n",
        "\n",
        "    with open('results.csv', 'w', newline='', encoding='utf-8') as f:\n",
        "        writer = csv.writer(f)\n",
        "        writer.writerow(['Job Title', 'Company', 'Location', 'Salary', 'Posting Date', 'Extract Date', 'Summary', 'Job Url'])\n",
        "        writer.writerows(records)"
      ],
      "metadata": {
        "id": "E7ZrjCvQaZM9"
      },
      "execution_count": 2,
      "outputs": []
    },
    {
      "cell_type": "code",
      "source": [
        "main('senior accountant', 'charlotte nc')"
      ],
      "metadata": {
        "colab": {
          "base_uri": "https://localhost:8080/"
        },
        "id": "Ap2Y2cTwab6N",
        "outputId": "d526829e-7de6-4d58-81e2-ac02ac03126e"
      },
      "execution_count": 3,
      "outputs": [
        {
          "output_type": "stream",
          "name": "stdout",
          "text": [
            "https://www.indeed.com/jobs?q=senior accountant&l=charlotte nc\n"
          ]
        }
      ]
    },
    {
      "cell_type": "markdown",
      "source": [],
      "metadata": {
        "id": "ncbFYBh-aS62"
      }
    }
  ]
}